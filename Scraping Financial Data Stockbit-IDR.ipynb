{
 "cells": [
  {
   "cell_type": "markdown",
   "metadata": {},
   "source": [
    "# Importing Libraries"
   ]
  },
  {
   "cell_type": "code",
   "execution_count": null,
   "metadata": {},
   "outputs": [],
   "source": [
    "import selenium\n",
    "from selenium import webdriver \n",
    "from selenium.webdriver.common.by import By \n",
    "from selenium.webdriver.common.keys import Keys\n",
    "from selenium.webdriver.support.ui import WebDriverWait \n",
    "from selenium.webdriver.support.ui import Select\n",
    "from selenium.webdriver.support import expected_conditions as EC \n",
    "from selenium.common.exceptions import TimeoutException\n",
    "from selenium.common.exceptions import NoSuchElementException\n",
    "from selenium.common.exceptions import ElementNotInteractableException\n",
    "from selenium.common.exceptions import ElementClickInterceptedException\n",
    "from selenium.common.exceptions import NoSuchAttributeException\n",
    "import time\n",
    "import numpy as np\n",
    "import pandas as pd\n",
    "import os"
   ]
  },
  {
   "cell_type": "markdown",
   "metadata": {},
   "source": [
    "# Preparing chrome webdriver and location for file storing"
   ]
  },
  {
   "cell_type": "code",
   "execution_count": null,
   "metadata": {},
   "outputs": [],
   "source": [
    "# Openning chromedriver & stockbit\n",
    "driver = webdriver.Chrome()\n",
    "driver.get('https://stockbit.com/login')\n",
    "path_file = os.getcwd()\n",
    "path_file"
   ]
  },
  {
   "cell_type": "markdown",
   "metadata": {},
   "source": [
    "# Login"
   ]
  },
  {
   "cell_type": "code",
   "execution_count": null,
   "metadata": {},
   "outputs": [],
   "source": [
    "# Login\n",
    "loginID = '' #fill with your stockbit email\n",
    "password = '' #fill with your stockbit password\n",
    "login_box = driver.find_element(By.ID,'username')\n",
    "login_box.send_keys(loginID)\n",
    "pass_box = driver.find_element(By.ID,'password')\n",
    "pass_box.send_keys(password)\n",
    "pass_box.send_keys(Keys.ENTER)"
   ]
  },
  {
   "cell_type": "markdown",
   "metadata": {},
   "source": [
    "# Selecting the company and currency"
   ]
  },
  {
   "cell_type": "code",
   "execution_count": null,
   "metadata": {},
   "outputs": [],
   "source": [
    "# Select the company \n",
    "comp = 'ASII'\n",
    "driver.get('https://stockbit.com/#/symbol/'+ comp +'/financials')"
   ]
  },
  {
   "cell_type": "code",
   "execution_count": null,
   "metadata": {},
   "outputs": [],
   "source": [
    "# Select Currency\n",
    "currency = 'IDR'\n",
    "se3 = Select(driver.find_element(By.CSS_SELECTOR,\"select[data-cy='data-currency']\")).select_by_value('IDR')"
   ]
  },
  {
   "cell_type": "markdown",
   "metadata": {},
   "source": [
    "# Scraping Balance Sheet data"
   ]
  },
  {
   "cell_type": "code",
   "execution_count": null,
   "metadata": {},
   "outputs": [],
   "source": [
    "# Select Report (BS, IS, or CF)\n",
    "\n",
    "# List of report\n",
    "# 1 Income Statement\n",
    "# 2 Balance Sheet\n",
    "# 3 Cash Flow\n",
    "\n",
    "se  = Select(driver.find_element(By.CSS_SELECTOR,\"select[data-cy='report-type']\")).select_by_value('2')"
   ]
  },
  {
   "cell_type": "code",
   "execution_count": null,
   "metadata": {},
   "outputs": [],
   "source": [
    "# Select Period\n",
    "\n",
    "# There are several choices for period:\n",
    "# 1 Quarterly\n",
    "# 2 Annual\n",
    "# 3 Interim YTD\n",
    "# 4 Q1\n",
    "# 5 Q2\n",
    "# 6 Q3\n",
    "# 7 Q4\n",
    "# 8 QoQ Growth\n",
    "# 9 Quarter YoY Growth\n",
    "# 10 YTD YoY Growth\n",
    "# 11 Annual YoY Growth\n",
    "# 12 3 Year CAGR\n",
    "\n",
    "period = '2' \n",
    "se2 = Select(driver.find_element(By.CSS_SELECTOR,\"select[data-cy='statement-type']\")).select_by_value(period)"
   ]
  },
  {
   "cell_type": "code",
   "execution_count": null,
   "metadata": {},
   "outputs": [],
   "source": [
    "# Getting header of table\n",
    "header_1 = driver.find_element(By.CSS_SELECTOR,'span[data-cy=\"financials-table-title-text\"]')\n",
    "header_2 = driver.find_elements(By.CSS_SELECTOR,'th[data-cy=\"financials-table-quarter-text\"]')\n",
    "header_text = [header_1.text] + [col.text for col in header_2][16:]\n",
    "\n",
    "# Click all expand button\n",
    "for j in range(10):\n",
    "    i = 0\n",
    "    while True:\n",
    "        elements = driver.find_elements(By.CSS_SELECTOR,'i[class=\"icon-right-dir collapsed\"]')\n",
    "        if len(elements) > i:\n",
    "            try:\n",
    "                elements[i].click() # click on the i-th element in the list\n",
    "                i += 1 # increment i\n",
    "                time.sleep(2) # wait until list will be updated\n",
    "            except ElementClickInterceptedException:\n",
    "                i += 1\n",
    "            except ElementNotInteractableException:\n",
    "                i += 1\n",
    "            continue\n",
    "        break\n",
    "    \n",
    "# Getting table body\n",
    "data1_bs = []\n",
    "elements = driver.find_element(By.CSS_SELECTOR,\"div[class='tbl-financials    ']\").find_elements(By.TAG_NAME,'td')\n",
    "for element in elements:\n",
    "    if element.get_attribute('data-value-idr') != None:                                        #Taking numbers data\n",
    "        if element.get_attribute('data-value-idr') != '-':\n",
    "            data1_bs.append(element.get_attribute('data-value-idr'))\n",
    "        else:\n",
    "            data1_bs.append(None)\n",
    "    else:                                                                                #Taking account name data\n",
    "        if element.text != '':\n",
    "            if 'Total' in element.text and 'Total' not in element.find_element(By.CLASS_NAME,'acc-name').get_attribute('title'):\n",
    "                data1_bs.append('Total ' + element.find_element(By.CLASS_NAME,'acc-name').get_attribute('title'))\n",
    "            else:\n",
    "                try:\n",
    "                    data1_bs.append(element.find_element(By.CLASS_NAME,'acc-name').get_attribute('title'))\n",
    "                except NoSuchElementException:\n",
    "                    data1_bs.append(element.text.strip())\n",
    "        else:\n",
    "            try:\n",
    "                data1_bs.append(element.find_element(By.CLASS_NAME,'acc-name').get_attribute('title'))\n",
    "            except NoSuchElementException:\n",
    "                data1_bs.append('')\n",
    "\n",
    "data2_bs = np.array(data1_bs)\n",
    "data3_bs = data2_bs.reshape(int(len(data1_bs)/len(header_text)),len(header_text))"
   ]
  },
  {
   "cell_type": "markdown",
   "metadata": {},
   "source": [
    "# Scraping Income Statement data"
   ]
  },
  {
   "cell_type": "code",
   "execution_count": null,
   "metadata": {},
   "outputs": [],
   "source": [
    "# Select Report (BS, IS, or CF)\n",
    "\n",
    "# List of report\n",
    "# 1 Income Statement\n",
    "# 2 Balance Sheet\n",
    "# 3 Cash Flow\n",
    "\n",
    "se  = Select(driver.find_element(By.CSS_SELECTOR,\"select[data-cy='report-type']\")).select_by_value('1')"
   ]
  },
  {
   "cell_type": "code",
   "execution_count": null,
   "metadata": {},
   "outputs": [],
   "source": [
    "# Getting header of table\n",
    "header_1 = driver.find_element(By.CSS_SELECTOR,'span[data-cy=\"financials-table-title-text\"]')\n",
    "header_2 = driver.find_elements(By.CSS_SELECTOR,'th[data-cy=\"financials-table-quarter-text\"]')\n",
    "header_text = [header_1.text] + [col.text for col in header_2][16:]\n",
    "\n",
    "# Click all expand button\n",
    "for j in range(10):\n",
    "    i = 0\n",
    "    while True:\n",
    "        elements = driver.find_elements(By.CSS_SELECTOR,'i[class=\"icon-right-dir collapsed\"]')\n",
    "        if len(elements) > i:\n",
    "            try:\n",
    "                elements[i].click() # click on the i-th element in the list\n",
    "                i += 1 # increment i\n",
    "                time.sleep(2) # wait until list will be updated\n",
    "            except ElementClickInterceptedException:\n",
    "                i += 1\n",
    "            except ElementNotInteractableException:\n",
    "                i += 1\n",
    "            continue\n",
    "        break\n",
    "    \n",
    "# Getting table body\n",
    "data1_is = []\n",
    "elements = driver.find_element(By.CSS_SELECTOR,\"div[class='tbl-financials    ']\").find_elements(By.TAG_NAME,'td')\n",
    "for element in elements:\n",
    "    if element.get_attribute('data-value-idr') != None:                                        #Taking numbers data\n",
    "        if element.get_attribute('data-value-idr') != '-':\n",
    "            data1_is.append(element.get_attribute('data-value-idr'))\n",
    "        else:\n",
    "            data1_is.append(None)\n",
    "    else:                                                                                #Taking account name data\n",
    "        if element.text != '':\n",
    "            if 'Total' in element.text and 'Total' not in element.find_element(By.CLASS_NAME,'acc-name').get_attribute('title'):\n",
    "                data1_is.append('Total ' + element.find_element(By.CLASS_NAME,'acc-name').get_attribute('title'))\n",
    "            else:\n",
    "                try:\n",
    "                    data1_is.append(element.find_element(By.CLASS_NAME,'acc-name').get_attribute('title'))\n",
    "                except NoSuchElementException:\n",
    "                    data1_is.append(element.text.strip())\n",
    "        else:\n",
    "            try:\n",
    "                data1_is.append(element.find_element(By.CLASS_NAME,'acc-name').get_attribute('title'))\n",
    "            except NoSuchElementException:\n",
    "                data1_is.append('')\n",
    "\n",
    "data2_is = np.array(data1_is)\n",
    "data3_is = data2_is.reshape(int(len(data1_is)/len(header_text)),len(header_text))"
   ]
  },
  {
   "cell_type": "markdown",
   "metadata": {},
   "source": [
    "# Scraping Cash Flow data"
   ]
  },
  {
   "cell_type": "code",
   "execution_count": null,
   "metadata": {},
   "outputs": [],
   "source": [
    "# Select Report (BS, IS, or CF)\n",
    "\n",
    "# List of report\n",
    "# 1 Income Statement\n",
    "# 2 Balance Sheet\n",
    "# 3 Cash Flow\n",
    "se  = Select(driver.find_element(By.CSS_SELECTOR,\"select[data-cy='report-type']\")).select_by_value('3')"
   ]
  },
  {
   "cell_type": "code",
   "execution_count": null,
   "metadata": {},
   "outputs": [],
   "source": [
    "# Getting header of table\n",
    "header_1 = driver.find_element(By.CSS_SELECTOR,'span[data-cy=\"financials-table-title-text\"]')\n",
    "header_2 = driver.find_elements(By.CSS_SELECTOR,'th[data-cy=\"financials-table-quarter-text\"]')\n",
    "header_text = [header_1.text] + [col.text for col in header_2][16:]\n",
    "\n",
    "# Click all expand button\n",
    "for j in range(10):\n",
    "    i = 0\n",
    "    while True:\n",
    "        elements = driver.find_elements(By.CSS_SELECTOR,'i[class=\"icon-right-dir collapsed\"]')\n",
    "        if len(elements) > i:\n",
    "            try:\n",
    "                elements[i].click() # click on the i-th element in the list\n",
    "                i += 1 # increment i\n",
    "                time.sleep(2) # wait until list will be updated\n",
    "            except ElementClickInterceptedException:\n",
    "                i += 1\n",
    "            except ElementNotInteractableException:\n",
    "                i += 1\n",
    "            continue\n",
    "        break\n",
    "    \n",
    "# Getting table body\n",
    "data1_cf = []\n",
    "elements = driver.find_element(By.CSS_SELECTOR,\"div[class='tbl-financials  disabled-percentage  ']\").find_elements(By.TAG_NAME,'td')\n",
    "for element in elements:\n",
    "    if element.get_attribute('data-value-idr') != None:                                        #Taking numbers data\n",
    "        if element.get_attribute('data-value-idr') != '-':\n",
    "            data1_cf.append(element.get_attribute('data-value-idr'))\n",
    "        else:\n",
    "            data1_cf.append(None)\n",
    "    else:                                                                                #Taking account name data\n",
    "        if element.text != '':\n",
    "            if 'Total' in element.text and 'Total' not in element.find_element(By.CLASS_NAME,'acc-name').get_attribute('title'):\n",
    "                data1_cf.append('Total ' + element.find_element(By.CLASS_NAME,'acc-name').get_attribute('title'))\n",
    "            else:\n",
    "                try:\n",
    "                    data1_cf.append(element.find_element(By.CLASS_NAME,'acc-name').get_attribute('title'))\n",
    "                except NoSuchElementException:\n",
    "                    data1_cf.append(element.text.strip())\n",
    "        else:\n",
    "            try:\n",
    "                data1_cf.append(element.find_element(By.CLASS_NAME,'acc-name').get_attribute('title'))\n",
    "            except NoSuchElementException:\n",
    "                data1_cf.append('')\n",
    "\n",
    "data2_cf = np.array(data1_cf)\n",
    "data3_cf = data2_cf.reshape(int(len(data1_cf)/len(header_text)),len(header_text))"
   ]
  },
  {
   "cell_type": "code",
   "execution_count": null,
   "metadata": {},
   "outputs": [],
   "source": [
    "# Store balance sheet, income statement, cash flow into dataframe\n",
    "bs = pd.DataFrame(data3_bs,columns=header_text)\n",
    "ist = pd.DataFrame(data3_is,columns=header_text)\n",
    "cf = pd.DataFrame(data3_cf,columns=header_text)"
   ]
  },
  {
   "cell_type": "code",
   "execution_count": null,
   "metadata": {},
   "outputs": [],
   "source": [
    "# Function to change number from strings format to integer\n",
    "def change_to_num_bill(x):\n",
    "    if x not in ('',None,np.nan):\n",
    "        try:\n",
    "            return int(x)/1000000000\n",
    "        except ValueError:\n",
    "            return x/1000000000\n",
    "    else :\n",
    "        return np.nan"
   ]
  },
  {
   "cell_type": "code",
   "execution_count": null,
   "metadata": {},
   "outputs": [],
   "source": [
    "# Apply change format function to the dataframe\n",
    "for col in header_text[1:]:\n",
    "    bs[col] = bs[col].apply(lambda x: change_to_num_bill(x)).round(0)\n",
    "    ist[col] = ist[col].apply(lambda x: change_to_num_bill(x)).round(0)\n",
    "    cf[col] = cf[col].apply(lambda x: change_to_num_bill(x)).round(0)"
   ]
  },
  {
   "cell_type": "code",
   "execution_count": null,
   "metadata": {},
   "outputs": [],
   "source": [
    "with pd.ExcelWriter(path_file +'\\\\'+ comp + '.xlsx') as writer:\n",
    "    bs.to_excel(writer, sheet_name='Balance Sheet',index=False)\n",
    "    ist.to_excel(writer, sheet_name='Income Statement',index=False)\n",
    "    cf.to_excel(writer, sheet_name='Cash Flow',index=False)"
   ]
  }
 ],
 "metadata": {
  "interpreter": {
   "hash": "23a18c8e967f7ca61a5ae82b79e4c154a9ba0c8983dc61fedd9ba8aeab74b0c1"
  },
  "kernelspec": {
   "display_name": "Python 3 (ipykernel)",
   "language": "python",
   "name": "python3"
  },
  "language_info": {
   "codemirror_mode": {
    "name": "ipython",
    "version": 3
   },
   "file_extension": ".py",
   "mimetype": "text/x-python",
   "name": "python",
   "nbconvert_exporter": "python",
   "pygments_lexer": "ipython3",
   "version": "3.11.7"
  }
 },
 "nbformat": 4,
 "nbformat_minor": 4
}
